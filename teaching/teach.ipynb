{
 "nbformat": 4,
 "nbformat_minor": 2,
 "metadata": {
  "language_info": {
   "name": "python",
   "codemirror_mode": {
    "name": "ipython",
    "version": 3
   },
   "version": "3.7.2-final"
  },
  "orig_nbformat": 2,
  "file_extension": ".py",
  "mimetype": "text/x-python",
  "name": "python",
  "npconvert_exporter": "python",
  "pygments_lexer": "ipython3",
  "version": 3,
  "kernelspec": {
   "name": "python37264bit0b3111693aa34ecea93b45bd1fd7a96a",
   "display_name": "Python 3.7.2 64-bit"
  }
 },
 "cells": [
  {
   "cell_type": "code",
   "execution_count": 14,
   "metadata": {},
   "outputs": [],
   "source": [
    "# this function is our entry point\n",
    "# we will collect user_input and\n",
    "# call the function to generate password\n",
    "# candidate\n",
    "import hashlib\n",
    "from string import ascii_lowercase\n",
    "\n",
    "charset = ascii_lowercase\n",
    "\n",
    "\n",
    "def main():\n",
    "    user_hash = input(\"###[Welcome to SHA-Cracker v1.0]###\\nPlease Enter the Hash[SHA-1 only]:\\n\")\n",
    "    generate(4, charset, user_hash)\n",
    "\n",
    "\n",
    "main()"
   ]
  },
  {
   "cell_type": "code",
   "execution_count": 12,
   "metadata": {},
   "outputs": [],
   "source": [
    "def generate(target_length: int, user_hash, charset: str, count=1, output=\"\"):\n",
    "    for char in charset:\n",
    "        if count == target_length:\n",
    "            # yield output+char\n",
    "            pass_candidate = output+char\n",
    "            if crack(user_hash, pass_candidate):\n",
    "                print(f\"====[Password Cracked Successfully, plaintext for {user_hash} is {pass_candidate}]====\")\n",
    "                exit()\n",
    "        \n",
    "        if count != target_length:\n",
    "            generate(target_length, charset, count+1, output=f\"{output}{char}\")"
   ]
  },
  {
   "cell_type": "code",
   "execution_count": 11,
   "metadata": {},
   "outputs": [],
   "source": [
    "def crack(user_hash, pass_candidate):\n",
    "    if hashlib.sha1(pass_candidate.encode(\"utf8\")).hexdigest() == user_hash:\n",
    "        return True\n",
    "    return False"
   ]
  },
  {
   "cell_type": "code",
   "execution_count": null,
   "metadata": {},
   "outputs": [],
   "source": []
  }
 ]
}